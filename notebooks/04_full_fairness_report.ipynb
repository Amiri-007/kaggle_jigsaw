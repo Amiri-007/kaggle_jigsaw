{
 "cells": [
  {
   "cell_type": "markdown",
   "metadata": {},
   "source": [
    "# Fairness Analysis Report\n",
    "\n",
    "This notebook contains a comprehensive fairness analysis for our toxicity classification model."
   ]
  },
  {
   "cell_type": "markdown",
   "metadata": {},
   "source": [
    "## Group Fairness Metrics\n",
    "\n",
    "First, we analyze standard group fairness metrics across demographic groups."
   ]
  },
  {
   "cell_type": "code",
   "execution_count": null,
   "metadata": {},
   "outputs": [],
   "source": [
    "# Group fairness analysis code would go here"
   ]
  },
  {
   "cell_type": "markdown",
   "metadata": {},
   "source": [
    "## Individual Fairness Analysis: SHarP\n",
    "\n",
    "The SHarP (Shapley-Responsibility Profile) analysis measures how the model's attention to features differs across demographic groups. Higher divergence indicates the model relies on different patterns for prediction."
   ]
  },
  {
   "cell_type": "code",
   "execution_count": null,
   "metadata": {},
   "outputs": [],
   "source": [
    "import pandas as pd, seaborn as sns, matplotlib.pyplot as plt\n",
    "sharp = pd.read_csv(\"output/explainers/sharp_scores_distilbert.csv\")\n",
    "sharp.sort_values(\"sharp_divergence\", ascending=False, inplace=True)\n",
    "display(sharp.head(10))\n",
    "\n",
    "from IPython.display import Image\n",
    "Image(\"output/explainers/sharp_divergence_distilbert.png\")"
   ]
  },
  {
   "cell_type": "markdown",
   "metadata": {},
   "source": [
    "SHarP analysis (Fig X) reveals that black and transgender subgroups exhibit the largest attribution divergence (0.19 and 0.17), suggesting the model relies on different token patterns when these identities are present\u2014an individual-fairness concern not visible in aggregate metrics."
   ]
  }
 ],
 "metadata": {
  "kernelspec": {
   "display_name": "Python 3",
   "language": "python",
   "name": "python3"
  },
  "language_info": {
   "codemirror_mode": {
    "name": "ipython",
    "version": 3
   },
   "file_extension": ".py",
   "mimetype": "text/x-python",
   "name": "python",
   "nbconvert_exporter": "python",
   "pygments_lexer": "ipython3",
   "version": "3.8.0"
  }
 },
 "nbformat": 4,
 "nbformat_minor": 4
}